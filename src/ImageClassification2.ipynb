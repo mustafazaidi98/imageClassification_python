{
  "nbformat": 4,
  "nbformat_minor": 0,
  "metadata": {
    "colab": {
      "provenance": [],
      "collapsed_sections": []
    },
    "kernelspec": {
      "name": "python3",
      "display_name": "Python 3"
    },
    "language_info": {
      "name": "python"
    }
  },
  "cells": [
    {
      "cell_type": "code",
      "execution_count": null,
      "metadata": {
        "colab": {
          "base_uri": "https://localhost:8080/"
        },
        "id": "aa2OJFB68tMb",
        "outputId": "fe2cfd3e-00cb-4646-e8b1-5ef9977fac68"
      },
      "outputs": [
        {
          "output_type": "stream",
          "name": "stdout",
          "text": [
            "Drive already mounted at /content/drive/; to attempt to forcibly remount, call drive.mount(\"/content/drive/\", force_remount=True).\n"
          ]
        }
      ],
      "source": [
        "import zipfile\n",
        "from google.colab import drive\n",
        "\n",
        "drive.mount('/content/drive/')\n"
      ]
    },
    {
      "cell_type": "code",
      "source": [
        "!tar -xvf \"/content/drive/MyDrive/cifar-10-python.tar.gz\""
      ],
      "metadata": {
        "colab": {
          "base_uri": "https://localhost:8080/"
        },
        "id": "XNeABURULng2",
        "outputId": "5b593954-2424-458c-ec55-e8cda192a249"
      },
      "execution_count": null,
      "outputs": [
        {
          "output_type": "stream",
          "name": "stdout",
          "text": [
            "cifar-10-batches-py/\n",
            "cifar-10-batches-py/data_batch_4\n",
            "cifar-10-batches-py/readme.html\n",
            "cifar-10-batches-py/test_batch\n",
            "cifar-10-batches-py/data_batch_3\n",
            "cifar-10-batches-py/batches.meta\n",
            "cifar-10-batches-py/data_batch_2\n",
            "cifar-10-batches-py/data_batch_5\n",
            "cifar-10-batches-py/data_batch_1\n"
          ]
        }
      ]
    },
    {
      "cell_type": "code",
      "source": [
        "import numpy as np\n",
        "import matplotlib.pyplot as plt\n",
        "import pickle\n",
        "\n",
        "train_data = None\n",
        "train_labels = []\n",
        "data_dir='cifar-10-batches-py'\n",
        "\n",
        "for i in range(1, 6):\n",
        " with open(data_dir + \"/data_batch_{}\".format(i), 'rb') as f:\n",
        "    data_dic = pickle.load(f, encoding='latin-1')\n",
        " if i == 1:\n",
        "  train_data = data_dic['data']\n",
        " else:\n",
        "  train_data = np.vstack((train_data, data_dic['data']))\n",
        " train_labels += data_dic['labels']\n",
        " with open(data_dir + \"/data_batch_{}\".format(i), 'rb') as f:\n",
        "  test_data_dic = pickle.load(f, encoding='latin-1')\n",
        "test_data = test_data_dic['data']\n",
        "test_labels = test_data_dic['labels']\n",
        "\n",
        "train_data = train_data.reshape((len(train_data), 3, 32, 32))\n",
        "train_data = np.rollaxis(train_data, 1, 4)\n",
        "train_labels = np.array(train_labels)\n",
        "\n",
        "test_data = test_data.reshape((len(test_data), 3, 32, 32))\n",
        "test_data = np.rollaxis(test_data, 1, 4)\n",
        "test_labels = np.array(test_labels)\n",
        "\n",
        "print(train_data.shape)\n",
        "print(train_labels.shape)\n",
        "\n",
        "print(test_data.shape)\n",
        "print(test_labels.shape)\n",
        "\n",
        "# In order to check where the data shows an image correctly\n",
        "with open(data_dir + \"/batches.meta\", 'rb') as f:\n",
        "    label_encoding  = pickle.load(f, encoding='latin-1')\n",
        "label_encoding = label_encoding['label_names']"
      ],
      "metadata": {
        "colab": {
          "base_uri": "https://localhost:8080/"
        },
        "id": "WTk1WUYiQYL0",
        "outputId": "56e38dd3-38fe-428b-9626-188b66cd3cda"
      },
      "execution_count": null,
      "outputs": [
        {
          "output_type": "stream",
          "name": "stdout",
          "text": [
            "(50000, 32, 32, 3)\n",
            "(50000,)\n",
            "(10000, 32, 32, 3)\n",
            "(10000,)\n"
          ]
        }
      ]
    },
    {
      "cell_type": "code",
      "source": [
        "import tensorflow.keras as keras\n",
        "train_data = train_data.astype(\"float32\")/255.0\n",
        "test_data = test_data.astype(\"float32\")/255.0\n",
        "# contains 10 classes\n",
        "train_labels = keras.utils.to_categorical(train_labels,10)\n",
        "test_labels = keras.utils.to_categorical(test_labels,10)"
      ],
      "metadata": {
        "id": "DOzv4PGybWQn"
      },
      "execution_count": null,
      "outputs": []
    },
    {
      "cell_type": "code",
      "source": [
        "# import the necessary pacakges\n",
        "from keras.models import Sequential\n",
        "from keras.layers.convolutional import Conv2D\n",
        "import keras.layers.normalization.batch_normalization as BatchNormalization\n",
        "from keras.layers.convolutional import MaxPooling2D as MaxPool2D\n",
        "from keras.layers.core import Activation\n",
        "from keras.layers.core import Flatten\n",
        "from keras.layers.core import Dropout\n",
        "from keras.layers.core import Dense\n",
        "from tensorflow import  keras\n",
        "\n",
        "\n",
        "from keras.optimizers import Adam\n",
        "\n",
        "model = Sequential()\n",
        "model.add(Conv2D(filters=64, kernel_size=3, input_shape=(32, 32, 3), activation='relu', padding='same'))\n",
        "model.add(Conv2D(filters=64, kernel_size=3, input_shape=(32, 32, 3), activation='relu', padding='same'))\n",
        "model.add(MaxPool2D(pool_size=2))\n",
        "\n",
        "model.add(Conv2D(filters=128, kernel_size=3, activation='relu', padding='same'))\n",
        "model.add(Conv2D(filters=128, kernel_size=3, activation='relu', padding='same'))\n",
        "model.add(MaxPool2D(pool_size=2))\n",
        "\n",
        "model.add(Conv2D(filters=128, kernel_size=3, activation='relu', padding='same'))\n",
        "model.add(Conv2D(filters=128, kernel_size=3, activation='relu', padding='same'))\n",
        "model.add(MaxPool2D(pool_size=2))\n",
        "\n",
        "model.add(Flatten())\n",
        "model.add(Dense(512, activation='relu'))\n",
        "model.add(Dropout(rate=0.25))\n",
        "model.add(Dense(10, activation='softmax'))\n",
        "adam = Adam(lr=0.001)\n",
        "model.compile(\n",
        "    optimizer=adam,\n",
        "    loss='categorical_crossentropy',\n",
        "    metrics=['accuracy'])\n",
        "from keras.preprocessing.image import ImageDataGenerator\n",
        "\n",
        "trainGen = ImageDataGenerator()\n",
        "result = model.fit_generator(trainGen.flow(train_data,train_labels,batch_size = 512),validation_data = (test_data,test_labels),epochs=30,steps_per_epoch= 40)"
      ],
      "metadata": {
        "colab": {
          "base_uri": "https://localhost:8080/"
        },
        "id": "4XpfJfrTtIdf",
        "outputId": "dc05ad65-2ee5-46ef-e154-a58a4bbce59d"
      },
      "execution_count": null,
      "outputs": [
        {
          "metadata": {
            "tags": null
          },
          "name": "stdout",
          "output_type": "stream",
          "text": [
            "Epoch 1/30\n"
          ]
        },
        {
          "metadata": {
            "tags": null
          },
          "name": "stderr",
          "output_type": "stream",
          "text": [
            "/usr/local/lib/python3.7/dist-packages/ipykernel_launcher.py:40: UserWarning: `Model.fit_generator` is deprecated and will be removed in a future version. Please use `Model.fit`, which supports generators.\n"
          ]
        },
        {
          "output_type": "stream",
          "name": "stdout",
          "text": [
            "40/40 [==============================] - 419s 10s/step - loss: 2.0822 - accuracy: 0.2216 - val_loss: 1.8530 - val_accuracy: 0.3242\n",
            "Epoch 2/30\n",
            "40/40 [==============================] - 422s 11s/step - loss: 1.7014 - accuracy: 0.3742 - val_loss: 1.6100 - val_accuracy: 0.4114\n",
            "Epoch 3/30\n",
            "40/40 [==============================] - 420s 10s/step - loss: 1.5429 - accuracy: 0.4302 - val_loss: 1.4968 - val_accuracy: 0.4434\n",
            "Epoch 4/30\n",
            "40/40 [==============================] - 424s 11s/step - loss: 1.3733 - accuracy: 0.4976 - val_loss: 1.2650 - val_accuracy: 0.5462\n",
            "Epoch 5/30\n",
            "40/40 [==============================] - 427s 11s/step - loss: 1.2770 - accuracy: 0.5376 - val_loss: 1.2264 - val_accuracy: 0.5622\n",
            "Epoch 6/30\n",
            "40/40 [==============================] - 425s 11s/step - loss: 1.1503 - accuracy: 0.5903 - val_loss: 1.0690 - val_accuracy: 0.6179\n",
            "Epoch 7/30\n",
            "40/40 [==============================] - 424s 11s/step - loss: 1.0618 - accuracy: 0.6188 - val_loss: 1.0180 - val_accuracy: 0.6303\n",
            "Epoch 8/30\n",
            "40/40 [==============================] - 418s 10s/step - loss: 0.9848 - accuracy: 0.6479 - val_loss: 0.9422 - val_accuracy: 0.6630\n",
            "Epoch 9/30\n",
            "40/40 [==============================] - 418s 10s/step - loss: 0.8980 - accuracy: 0.6829 - val_loss: 0.8078 - val_accuracy: 0.7210\n",
            "Epoch 10/30\n",
            "40/40 [==============================] - 416s 10s/step - loss: 0.8347 - accuracy: 0.7038 - val_loss: 0.8083 - val_accuracy: 0.7205\n",
            "Epoch 11/30\n",
            "40/40 [==============================] - 411s 10s/step - loss: 0.7888 - accuracy: 0.7281 - val_loss: 0.7394 - val_accuracy: 0.7452\n",
            "Epoch 12/30\n",
            "40/40 [==============================] - 412s 10s/step - loss: 0.7351 - accuracy: 0.7417 - val_loss: 0.7027 - val_accuracy: 0.7558\n",
            "Epoch 13/30\n",
            "40/40 [==============================] - 410s 10s/step - loss: 0.6853 - accuracy: 0.7592 - val_loss: 0.6163 - val_accuracy: 0.7851\n",
            "Epoch 14/30\n",
            "40/40 [==============================] - 408s 10s/step - loss: 0.6422 - accuracy: 0.7736 - val_loss: 0.5920 - val_accuracy: 0.8005\n",
            "Epoch 15/30\n",
            "40/40 [==============================] - 407s 10s/step - loss: 0.6246 - accuracy: 0.7824 - val_loss: 0.5799 - val_accuracy: 0.8021\n",
            "Epoch 16/30\n",
            "40/40 [==============================] - 407s 10s/step - loss: 0.5768 - accuracy: 0.7996 - val_loss: 0.5247 - val_accuracy: 0.8179\n",
            "Epoch 17/30\n",
            "40/40 [==============================] - 408s 10s/step - loss: 0.5515 - accuracy: 0.8061 - val_loss: 0.4869 - val_accuracy: 0.8324\n",
            "Epoch 18/30\n",
            "40/40 [==============================] - 408s 10s/step - loss: 0.5054 - accuracy: 0.8205 - val_loss: 0.4285 - val_accuracy: 0.8556\n",
            "Epoch 19/30\n",
            "40/40 [==============================] - 406s 10s/step - loss: 0.4707 - accuracy: 0.8368 - val_loss: 0.3989 - val_accuracy: 0.8625\n",
            "Epoch 20/30\n",
            "40/40 [==============================] - 410s 10s/step - loss: 0.4499 - accuracy: 0.8428 - val_loss: 0.3923 - val_accuracy: 0.8649\n",
            "Epoch 21/30\n",
            "40/40 [==============================] - 409s 10s/step - loss: 0.4108 - accuracy: 0.8569 - val_loss: 0.3261 - val_accuracy: 0.8930\n",
            "Epoch 22/30\n",
            "30/40 [=====================>........] - ETA: 1:29 - loss: 0.3819 - accuracy: 0.8678"
          ]
        }
      ]
    },
    {
      "cell_type": "code",
      "source": [
        "import matplotlib.pyplot as plt\n",
        "acc_values = result.history['accuracy']\n",
        "val_acc_values = result.history['val_accuracy']\n",
        "plt.plot(epochs,acc_values,'bo',label='Training accuracy')\n",
        "plt.plot(epochs,val_acc_values,'b',label='Validation accuracy')\n",
        "plt.title('Training and validation accuracy')\n",
        "plt.xlabel('Epochs')\n",
        "plt.ylabel('Accuracy')\n",
        "plt.legend()\n",
        "plt.show()"
      ],
      "metadata": {
        "id": "kCodZQDpz1sr"
      },
      "execution_count": null,
      "outputs": []
    },
    {
      "cell_type": "code",
      "source": [
        "##inception Block\n",
        "from keras import layers\n",
        "x = Input(shape = (32,32,3))\n",
        "branch_a = layers.Conv2D(128,1,activation='relu',strides = 2)(x)\n",
        "branch_b = layers.Conv2D(128,1,activation='relu')(x)\n",
        "branch_b = layers.Conv2D(128,3,activation='relu',strides=2)(branch_b)\n",
        "branch_c = layers.AveragePooling2D(3,strides=2)(x)\n",
        "branch_c = layers.Convo2D(128,3,activation='relu')(branch_c)\n",
        "branch_d = layers.Convo2D(128,1,activation='relu')(x)\n",
        "branch_d = layers.Conv2D(128,3,activation='relu')(branch_d)\n",
        "branch_d = layers.Conv2D(128,3,activation='relu',strides=2)(branch_d)\n",
        "model = layers.concatenate(branch_a,branch_b,branch_c,branch_d,axis=-1)\n",
        "result = model.fit_generator(trainGen.flow(train_data,train_labels,batch_size = 512),validation_data = (test_data,test_labels),epochs=30,steps_per_epoch= 40)"
      ],
      "metadata": {
        "id": "MMnmDshE1FOQ"
      },
      "execution_count": null,
      "outputs": []
    },
    {
      "cell_type": "code",
      "source": [
        "import matplotlib.pyplot as plt\n",
        "acc_values = result.history['accuracy']\n",
        "val_acc_values = result.history['val_accuracy']\n",
        "plt.plot(epochs,acc_values,'bo',label='Training accuracy')\n",
        "plt.plot(epochs,val_acc_values,'b',label='Validation accuracy')\n",
        "plt.title('Training and validation accuracy')\n",
        "plt.xlabel('Epochs')\n",
        "plt.ylabel('Accuracy')\n",
        "plt.legend()\n",
        "plt.show()"
      ],
      "metadata": {
        "id": "5EBBaSuE31cw"
      },
      "execution_count": null,
      "outputs": []
    },
    {
      "cell_type": "code",
      "source": [
        "#Residual Block\n",
        "x =  Input(shape = (32,32,3))\n",
        "y = layers.convo2D(128,3,activation='relu',padding='same')(x)\n",
        "y = layers.convo2D(128,3,activation='relu',padding='same')(y)\n",
        "y = layers.convo2D(128,3,activation='relu',padding='same')(y)\n",
        "residual = layers.Convo2D(128,1,strides=2)(y)\n",
        "model = layers.add([y,residual])\n",
        "result = model.fit_generator(trainGen.flow(train_data,train_labels,batch_size = 512),validation_data = (test_data,test_labels),epochs=30,steps_per_epoch= 40)"
      ],
      "metadata": {
        "id": "r8GDy2Oc2e2K"
      },
      "execution_count": null,
      "outputs": []
    },
    {
      "cell_type": "code",
      "source": [
        "import matplotlib.pyplot as plt\n",
        "acc_values = result.history['accuracy']\n",
        "val_acc_values = result.history['val_accuracy']\n",
        "plt.plot(epochs,acc_values,'bo',label='Training accuracy')\n",
        "plt.plot(epochs,val_acc_values,'b',label='Validation accuracy')\n",
        "plt.title('Training and validation accuracy')\n",
        "plt.xlabel('Epochs')\n",
        "plt.ylabel('Accuracy')\n",
        "plt.legend()\n",
        "plt.show()"
      ],
      "metadata": {
        "id": "vP3-LlwE32eQ"
      },
      "execution_count": null,
      "outputs": []
    }
  ]
}